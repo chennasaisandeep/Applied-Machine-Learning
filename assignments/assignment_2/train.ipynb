{
 "cells": [
  {
   "cell_type": "markdown",
   "metadata": {},
   "source": [
    "#### Import Required Libraries"
   ]
  },
  {
   "cell_type": "code",
   "execution_count": 1,
   "metadata": {},
   "outputs": [
    {
     "name": "stderr",
     "output_type": "stream",
     "text": [
      "[nltk_data] Downloading package stopwords to\n",
      "[nltk_data]     C:\\Users\\saisa\\AppData\\Roaming\\nltk_data...\n",
      "[nltk_data]   Package stopwords is already up-to-date!\n",
      "[nltk_data] Downloading package wordnet to\n",
      "[nltk_data]     C:\\Users\\saisa\\AppData\\Roaming\\nltk_data...\n",
      "[nltk_data]   Package wordnet is already up-to-date!\n"
     ]
    }
   ],
   "source": [
    "import re\n",
    "import pandas as pd\n",
    "import mlflow\n",
    "import mlflow.sklearn\n",
    "from mlflow.models import infer_signature\n",
    "from sklearn.model_selection import ParameterGrid\n",
    "from sklearn.feature_extraction.text import TfidfVectorizer\n",
    "from sklearn.pipeline import Pipeline\n",
    "from sklearn.metrics import average_precision_score, classification_report\n",
    "from sklearn.linear_model import LogisticRegression\n",
    "from sklearn.ensemble import RandomForestClassifier\n",
    "from xgboost import XGBClassifier\n",
    "import nltk\n",
    "from nltk.corpus import stopwords\n",
    "from nltk.stem import WordNetLemmatizer\n",
    "\n",
    "nltk.download('stopwords')\n",
    "nltk.download('wordnet')\n",
    "\n",
    "import warnings\n",
    "warnings.filterwarnings(\"ignore\", category=FutureWarning)"
   ]
  },
  {
   "cell_type": "code",
   "execution_count": 2,
   "metadata": {},
   "outputs": [],
   "source": [
    "# Initialize preprocessing components\n",
    "lemmatizer = WordNetLemmatizer()\n",
    "stop_words = set(stopwords.words('english'))\n",
    "\n",
    "def preprocess_text(text):\n",
    "    \"\"\"\n",
    "    Preprocess a single text message:\n",
    "    1. Convert to lowercase\n",
    "    2. Tokenize the text\n",
    "    3. Remove stopwords\n",
    "    4. Lemmatize the tokens\n",
    "    5. Join tokens back into a string\n",
    "    \"\"\"\n",
    "    # Convert to lowercase\n",
    "    text = text.lower()\n",
    "    \n",
    "    # Remove special characters and numbers\n",
    "    text = re.sub(r'[^a-zA-Z0-9\\s]', '', text)\n",
    "    \n",
    "    # Tokenize the text\n",
    "    tokens = nltk.word_tokenize(text)\n",
    "    \n",
    "    # Remove stopwords and lemmatize\n",
    "    tokens = [lemmatizer.lemmatize(word) for word in tokens if word not in stop_words]\n",
    "    \n",
    "    # Join tokens back into a string\n",
    "    return ' '.join(tokens)"
   ]
  },
  {
   "cell_type": "markdown",
   "metadata": {},
   "source": [
    "#### Load and Prepare Data"
   ]
  },
  {
   "cell_type": "code",
   "execution_count": 3,
   "metadata": {},
   "outputs": [],
   "source": [
    "# Load all datasets\n",
    "train_data = pd.read_csv(\"datasets_processed/train.csv\")\n",
    "val_data = pd.read_csv(\"datasets_processed/validation.csv\")\n",
    "test_data = pd.read_csv(\"datasets_processed/test.csv\")\n",
    "\n",
    "# Preprocess all data\n",
    "X_train = train_data[\"message\"].apply(preprocess_text)\n",
    "y_train = train_data[\"label\"]\n",
    "X_val = val_data[\"message\"].apply(preprocess_text)\n",
    "y_val = val_data[\"label\"]\n",
    "X_test = test_data[\"message\"].apply(preprocess_text)\n",
    "y_test = test_data[\"label\"]"
   ]
  },
  {
   "cell_type": "markdown",
   "metadata": {},
   "source": [
    "#### Define Models"
   ]
  },
  {
   "cell_type": "code",
   "execution_count": 4,
   "metadata": {},
   "outputs": [
    {
     "name": "stderr",
     "output_type": "stream",
     "text": [
      "2025/03/04 20:06:46 INFO mlflow.tracking.fluent: Experiment with name 'SMS_Spam_Classification' does not exist. Creating a new experiment.\n"
     ]
    }
   ],
   "source": [
    "# Define hyperparameter grids for each model\n",
    "param_grids = {\n",
    "    \"LogisticRegression\": {\n",
    "        'clf__C': [0.1, 1, 10],\n",
    "        'clf__solver': ['liblinear', 'saga']\n",
    "    },\n",
    "    \"RandomForest\": {\n",
    "        'clf__n_estimators': [100, 200],\n",
    "        'clf__max_depth': [None, 10]\n",
    "    },\n",
    "    \"XGBoost\": {\n",
    "        'clf__learning_rate': [0.1, 0.01],\n",
    "        'clf__max_depth': [3, 5]\n",
    "    }\n",
    "}\n",
    "\n",
    "# MLflow setup\n",
    "mlflow.set_experiment(\"SMS_Spam_Classification\")\n",
    "mlflow.set_tracking_uri(\"file:///g:/Desktop/CMI_DS/semester_IV/applied_machine_learning/assignments/assignment_2/mlruns\")"
   ]
  },
  {
   "cell_type": "markdown",
   "metadata": {},
   "source": [
    "#### Train and Track Models with MLflow"
   ]
  },
  {
   "cell_type": "code",
   "execution_count": 5,
   "metadata": {},
   "outputs": [],
   "source": [
    "def train_and_tune(models, param_grids):\n",
    "    best_models = {}\n",
    "    for model_name in models.keys():\n",
    "        print(\"\\n\" + \"=\"*50)\n",
    "        print(f\"Training and Tuning for Model: {model_name}\")\n",
    "        print(\"=\"*50)\n",
    "        with mlflow.start_run(run_name=f\"{model_name}_Tuning\", nested=True):\n",
    "            pipeline = Pipeline([\n",
    "                ('tfidf', TfidfVectorizer()),\n",
    "                ('clf', models[model_name])\n",
    "            ])\n",
    "            best_score = 0\n",
    "            best_params = None\n",
    "            best_pipeline = None\n",
    "            for params in ParameterGrid(param_grids[model_name]):\n",
    "                with mlflow.start_run(run_name=f\"{model_name}_Combination\", nested=True):\n",
    "                    pipeline.set_params(**params)\n",
    "                    pipeline.fit(X_train, y_train)\n",
    "                    input_example_df = pd.DataFrame({\"message\": [X_train.iloc[0]]})\n",
    "                    signature = infer_signature(pd.DataFrame({\"message\": X_train}), pipeline.predict(X_train.tolist()))\n",
    "                    y_proba = pipeline.predict_proba(X_val)\n",
    "                    aucpr = average_precision_score(y_val, y_proba[:, 1])\n",
    "                    y_pred = pipeline.predict(X_val)\n",
    "                    print(\"-\"*50)\n",
    "                    print(f\"Parameters: {params}\")\n",
    "                    print(f\"Validation AUCPR: {aucpr:.4f}\")\n",
    "                    print(\"Classification Report:\")\n",
    "                    print(classification_report(y_val, y_pred, zero_division=0))\n",
    "                    mlflow.log_params(params)\n",
    "                    mlflow.log_metric(\"val_aucpr\", aucpr)\n",
    "                    mlflow.sklearn.log_model(\n",
    "                        pipeline, \n",
    "                        \"model\", \n",
    "                        registered_model_name=f\"SpamModel_{model_name}\",\n",
    "                        signature=signature,\n",
    "                        input_example=input_example_df\n",
    "                    )\n",
    "                    if aucpr > best_score:\n",
    "                        best_score = aucpr\n",
    "                        best_params = params\n",
    "                        best_pipeline = pipeline\n",
    "            print(\"=\"*50)\n",
    "            print(f\"Best Parameters for {model_name}: {best_params}\")\n",
    "            print(f\"Best Validation AUCPR: {best_score:.4f}\")\n",
    "            print(\"=\"*50)\n",
    "            mlflow.log_params(best_params)\n",
    "            mlflow.log_metric(\"best_val_aucpr\", best_score)\n",
    "            mlflow.sklearn.log_model(\n",
    "                best_pipeline, \n",
    "                \"best_model\",\n",
    "                registered_model_name=f\"SpamModel_{model_name}\",\n",
    "                signature=signature,\n",
    "                input_example=input_example_df\n",
    "            )\n",
    "            best_models[model_name] = best_pipeline\n",
    "    return best_models"
   ]
  },
  {
   "cell_type": "code",
   "execution_count": 6,
   "metadata": {},
   "outputs": [
    {
     "name": "stdout",
     "output_type": "stream",
     "text": [
      "\n",
      "==================================================\n",
      "Training and Tuning for Model: LogisticRegression\n",
      "==================================================\n",
      "--------------------------------------------------\n",
      "Parameters: {'clf__C': 0.1, 'clf__solver': 'liblinear'}\n",
      "Validation AUCPR: 0.9109\n",
      "Classification Report:\n",
      "              precision    recall  f1-score   support\n",
      "\n",
      "           0       0.86      1.00      0.92       718\n",
      "           1       0.00      0.00      0.00       118\n",
      "\n",
      "    accuracy                           0.86       836\n",
      "   macro avg       0.43      0.50      0.46       836\n",
      "weighted avg       0.74      0.86      0.79       836\n",
      "\n"
     ]
    },
    {
     "data": {
      "application/vnd.jupyter.widget-view+json": {
       "model_id": "bb8c99d64da245889e6cef39da2717c8",
       "version_major": 2,
       "version_minor": 0
      },
      "text/plain": [
       "Downloading artifacts:   0%|          | 0/7 [00:00<?, ?it/s]"
      ]
     },
     "metadata": {},
     "output_type": "display_data"
    },
    {
     "name": "stderr",
     "output_type": "stream",
     "text": [
      "Successfully registered model 'SpamModel_LogisticRegression'.\n",
      "Created version '1' of model 'SpamModel_LogisticRegression'.\n"
     ]
    },
    {
     "name": "stdout",
     "output_type": "stream",
     "text": [
      "--------------------------------------------------\n",
      "Parameters: {'clf__C': 0.1, 'clf__solver': 'saga'}\n",
      "Validation AUCPR: 0.9102\n",
      "Classification Report:\n",
      "              precision    recall  f1-score   support\n",
      "\n",
      "           0       0.86      1.00      0.92       718\n",
      "           1       0.00      0.00      0.00       118\n",
      "\n",
      "    accuracy                           0.86       836\n",
      "   macro avg       0.43      0.50      0.46       836\n",
      "weighted avg       0.74      0.86      0.79       836\n",
      "\n"
     ]
    },
    {
     "data": {
      "application/vnd.jupyter.widget-view+json": {
       "model_id": "b100739ba438453f9c39d7783a78ad70",
       "version_major": 2,
       "version_minor": 0
      },
      "text/plain": [
       "Downloading artifacts:   0%|          | 0/7 [00:00<?, ?it/s]"
      ]
     },
     "metadata": {},
     "output_type": "display_data"
    },
    {
     "name": "stderr",
     "output_type": "stream",
     "text": [
      "Registered model 'SpamModel_LogisticRegression' already exists. Creating a new version of this model...\n",
      "Created version '2' of model 'SpamModel_LogisticRegression'.\n"
     ]
    },
    {
     "name": "stdout",
     "output_type": "stream",
     "text": [
      "--------------------------------------------------\n",
      "Parameters: {'clf__C': 1, 'clf__solver': 'liblinear'}\n",
      "Validation AUCPR: 0.9605\n",
      "Classification Report:\n",
      "              precision    recall  f1-score   support\n",
      "\n",
      "           0       0.95      1.00      0.98       718\n",
      "           1       0.98      0.71      0.82       118\n",
      "\n",
      "    accuracy                           0.96       836\n",
      "   macro avg       0.97      0.85      0.90       836\n",
      "weighted avg       0.96      0.96      0.95       836\n",
      "\n"
     ]
    },
    {
     "data": {
      "application/vnd.jupyter.widget-view+json": {
       "model_id": "734ed83f77554263a8f7c9a05e0c2957",
       "version_major": 2,
       "version_minor": 0
      },
      "text/plain": [
       "Downloading artifacts:   0%|          | 0/7 [00:00<?, ?it/s]"
      ]
     },
     "metadata": {},
     "output_type": "display_data"
    },
    {
     "name": "stderr",
     "output_type": "stream",
     "text": [
      "Registered model 'SpamModel_LogisticRegression' already exists. Creating a new version of this model...\n",
      "Created version '3' of model 'SpamModel_LogisticRegression'.\n"
     ]
    },
    {
     "name": "stdout",
     "output_type": "stream",
     "text": [
      "--------------------------------------------------\n",
      "Parameters: {'clf__C': 1, 'clf__solver': 'saga'}\n",
      "Validation AUCPR: 0.9609\n",
      "Classification Report:\n",
      "              precision    recall  f1-score   support\n",
      "\n",
      "           0       0.95      1.00      0.98       718\n",
      "           1       0.98      0.71      0.82       118\n",
      "\n",
      "    accuracy                           0.96       836\n",
      "   macro avg       0.97      0.85      0.90       836\n",
      "weighted avg       0.96      0.96      0.95       836\n",
      "\n"
     ]
    },
    {
     "data": {
      "application/vnd.jupyter.widget-view+json": {
       "model_id": "4cf5727b015346f7935beab4761598f5",
       "version_major": 2,
       "version_minor": 0
      },
      "text/plain": [
       "Downloading artifacts:   0%|          | 0/7 [00:00<?, ?it/s]"
      ]
     },
     "metadata": {},
     "output_type": "display_data"
    },
    {
     "name": "stderr",
     "output_type": "stream",
     "text": [
      "Registered model 'SpamModel_LogisticRegression' already exists. Creating a new version of this model...\n",
      "Created version '4' of model 'SpamModel_LogisticRegression'.\n"
     ]
    },
    {
     "name": "stdout",
     "output_type": "stream",
     "text": [
      "--------------------------------------------------\n",
      "Parameters: {'clf__C': 10, 'clf__solver': 'liblinear'}\n",
      "Validation AUCPR: 0.9783\n",
      "Classification Report:\n",
      "              precision    recall  f1-score   support\n",
      "\n",
      "           0       0.98      1.00      0.99       718\n",
      "           1       0.98      0.86      0.91       118\n",
      "\n",
      "    accuracy                           0.98       836\n",
      "   macro avg       0.98      0.93      0.95       836\n",
      "weighted avg       0.98      0.98      0.98       836\n",
      "\n"
     ]
    },
    {
     "data": {
      "application/vnd.jupyter.widget-view+json": {
       "model_id": "0bf02a80fb2a4ac7adf203f067bbe2a3",
       "version_major": 2,
       "version_minor": 0
      },
      "text/plain": [
       "Downloading artifacts:   0%|          | 0/7 [00:00<?, ?it/s]"
      ]
     },
     "metadata": {},
     "output_type": "display_data"
    },
    {
     "name": "stderr",
     "output_type": "stream",
     "text": [
      "Registered model 'SpamModel_LogisticRegression' already exists. Creating a new version of this model...\n",
      "Created version '5' of model 'SpamModel_LogisticRegression'.\n",
      "c:\\Users\\saisa\\anaconda3\\envs\\DataScience_python310\\lib\\site-packages\\sklearn\\linear_model\\_sag.py:349: ConvergenceWarning: The max_iter was reached which means the coef_ did not converge\n",
      "  warnings.warn(\n"
     ]
    },
    {
     "name": "stdout",
     "output_type": "stream",
     "text": [
      "--------------------------------------------------\n",
      "Parameters: {'clf__C': 10, 'clf__solver': 'saga'}\n",
      "Validation AUCPR: 0.9785\n",
      "Classification Report:\n",
      "              precision    recall  f1-score   support\n",
      "\n",
      "           0       0.98      1.00      0.99       718\n",
      "           1       0.98      0.86      0.91       118\n",
      "\n",
      "    accuracy                           0.98       836\n",
      "   macro avg       0.98      0.93      0.95       836\n",
      "weighted avg       0.98      0.98      0.98       836\n",
      "\n"
     ]
    },
    {
     "data": {
      "application/vnd.jupyter.widget-view+json": {
       "model_id": "a940a9f545634e9c9712212545bab6cd",
       "version_major": 2,
       "version_minor": 0
      },
      "text/plain": [
       "Downloading artifacts:   0%|          | 0/7 [00:00<?, ?it/s]"
      ]
     },
     "metadata": {},
     "output_type": "display_data"
    },
    {
     "name": "stderr",
     "output_type": "stream",
     "text": [
      "Registered model 'SpamModel_LogisticRegression' already exists. Creating a new version of this model...\n",
      "Created version '6' of model 'SpamModel_LogisticRegression'.\n"
     ]
    },
    {
     "name": "stdout",
     "output_type": "stream",
     "text": [
      "==================================================\n",
      "Best Parameters for LogisticRegression: {'clf__C': 10, 'clf__solver': 'saga'}\n",
      "Best Validation AUCPR: 0.9785\n",
      "==================================================\n"
     ]
    },
    {
     "data": {
      "application/vnd.jupyter.widget-view+json": {
       "model_id": "3b508178635b4f53a03dc6bb155c48d8",
       "version_major": 2,
       "version_minor": 0
      },
      "text/plain": [
       "Downloading artifacts:   0%|          | 0/7 [00:00<?, ?it/s]"
      ]
     },
     "metadata": {},
     "output_type": "display_data"
    },
    {
     "name": "stderr",
     "output_type": "stream",
     "text": [
      "Registered model 'SpamModel_LogisticRegression' already exists. Creating a new version of this model...\n",
      "Created version '7' of model 'SpamModel_LogisticRegression'.\n"
     ]
    },
    {
     "name": "stdout",
     "output_type": "stream",
     "text": [
      "\n",
      "==================================================\n",
      "Training and Tuning for Model: RandomForest\n",
      "==================================================\n",
      "--------------------------------------------------\n",
      "Parameters: {'clf__max_depth': None, 'clf__n_estimators': 100}\n",
      "Validation AUCPR: 0.9783\n",
      "Classification Report:\n",
      "              precision    recall  f1-score   support\n",
      "\n",
      "           0       0.97      1.00      0.98       718\n",
      "           1       1.00      0.81      0.90       118\n",
      "\n",
      "    accuracy                           0.97       836\n",
      "   macro avg       0.99      0.91      0.94       836\n",
      "weighted avg       0.97      0.97      0.97       836\n",
      "\n"
     ]
    },
    {
     "data": {
      "application/vnd.jupyter.widget-view+json": {
       "model_id": "f2133b4e50324b9e8d8ed01cf48a625d",
       "version_major": 2,
       "version_minor": 0
      },
      "text/plain": [
       "Downloading artifacts:   0%|          | 0/7 [00:00<?, ?it/s]"
      ]
     },
     "metadata": {},
     "output_type": "display_data"
    },
    {
     "name": "stderr",
     "output_type": "stream",
     "text": [
      "Successfully registered model 'SpamModel_RandomForest'.\n",
      "Created version '1' of model 'SpamModel_RandomForest'.\n"
     ]
    },
    {
     "name": "stdout",
     "output_type": "stream",
     "text": [
      "--------------------------------------------------\n",
      "Parameters: {'clf__max_depth': None, 'clf__n_estimators': 200}\n",
      "Validation AUCPR: 0.9758\n",
      "Classification Report:\n",
      "              precision    recall  f1-score   support\n",
      "\n",
      "           0       0.97      1.00      0.98       718\n",
      "           1       0.99      0.82      0.90       118\n",
      "\n",
      "    accuracy                           0.97       836\n",
      "   macro avg       0.98      0.91      0.94       836\n",
      "weighted avg       0.97      0.97      0.97       836\n",
      "\n"
     ]
    },
    {
     "data": {
      "application/vnd.jupyter.widget-view+json": {
       "model_id": "c1f11668f5ad47e5a77de143ab122b33",
       "version_major": 2,
       "version_minor": 0
      },
      "text/plain": [
       "Downloading artifacts:   0%|          | 0/7 [00:00<?, ?it/s]"
      ]
     },
     "metadata": {},
     "output_type": "display_data"
    },
    {
     "name": "stderr",
     "output_type": "stream",
     "text": [
      "Registered model 'SpamModel_RandomForest' already exists. Creating a new version of this model...\n",
      "Created version '2' of model 'SpamModel_RandomForest'.\n"
     ]
    },
    {
     "name": "stdout",
     "output_type": "stream",
     "text": [
      "--------------------------------------------------\n",
      "Parameters: {'clf__max_depth': 10, 'clf__n_estimators': 100}\n",
      "Validation AUCPR: 0.9614\n",
      "Classification Report:\n",
      "              precision    recall  f1-score   support\n",
      "\n",
      "           0       0.88      1.00      0.94       718\n",
      "           1       1.00      0.18      0.30       118\n",
      "\n",
      "    accuracy                           0.88       836\n",
      "   macro avg       0.94      0.59      0.62       836\n",
      "weighted avg       0.90      0.88      0.85       836\n",
      "\n"
     ]
    },
    {
     "data": {
      "application/vnd.jupyter.widget-view+json": {
       "model_id": "5e136ce23a9c4da0be23b631efd0d000",
       "version_major": 2,
       "version_minor": 0
      },
      "text/plain": [
       "Downloading artifacts:   0%|          | 0/7 [00:00<?, ?it/s]"
      ]
     },
     "metadata": {},
     "output_type": "display_data"
    },
    {
     "name": "stderr",
     "output_type": "stream",
     "text": [
      "Registered model 'SpamModel_RandomForest' already exists. Creating a new version of this model...\n",
      "Created version '3' of model 'SpamModel_RandomForest'.\n"
     ]
    },
    {
     "name": "stdout",
     "output_type": "stream",
     "text": [
      "--------------------------------------------------\n",
      "Parameters: {'clf__max_depth': 10, 'clf__n_estimators': 200}\n",
      "Validation AUCPR: 0.9636\n",
      "Classification Report:\n",
      "              precision    recall  f1-score   support\n",
      "\n",
      "           0       0.89      1.00      0.94       718\n",
      "           1       1.00      0.23      0.37       118\n",
      "\n",
      "    accuracy                           0.89       836\n",
      "   macro avg       0.94      0.61      0.66       836\n",
      "weighted avg       0.90      0.89      0.86       836\n",
      "\n"
     ]
    },
    {
     "data": {
      "application/vnd.jupyter.widget-view+json": {
       "model_id": "cfe377f244ff4b0da43be5b23ae5b238",
       "version_major": 2,
       "version_minor": 0
      },
      "text/plain": [
       "Downloading artifacts:   0%|          | 0/7 [00:00<?, ?it/s]"
      ]
     },
     "metadata": {},
     "output_type": "display_data"
    },
    {
     "name": "stderr",
     "output_type": "stream",
     "text": [
      "Registered model 'SpamModel_RandomForest' already exists. Creating a new version of this model...\n",
      "Created version '4' of model 'SpamModel_RandomForest'.\n"
     ]
    },
    {
     "name": "stdout",
     "output_type": "stream",
     "text": [
      "==================================================\n",
      "Best Parameters for RandomForest: {'clf__max_depth': None, 'clf__n_estimators': 100}\n",
      "Best Validation AUCPR: 0.9783\n",
      "==================================================\n"
     ]
    },
    {
     "data": {
      "application/vnd.jupyter.widget-view+json": {
       "model_id": "bc53f73acd2c452fa6f7cda504466742",
       "version_major": 2,
       "version_minor": 0
      },
      "text/plain": [
       "Downloading artifacts:   0%|          | 0/7 [00:00<?, ?it/s]"
      ]
     },
     "metadata": {},
     "output_type": "display_data"
    },
    {
     "name": "stderr",
     "output_type": "stream",
     "text": [
      "Registered model 'SpamModel_RandomForest' already exists. Creating a new version of this model...\n",
      "Created version '5' of model 'SpamModel_RandomForest'.\n"
     ]
    },
    {
     "name": "stdout",
     "output_type": "stream",
     "text": [
      "\n",
      "==================================================\n",
      "Training and Tuning for Model: XGBoost\n",
      "==================================================\n",
      "--------------------------------------------------\n",
      "Parameters: {'clf__learning_rate': 0.1, 'clf__max_depth': 3}\n",
      "Validation AUCPR: 0.9273\n",
      "Classification Report:\n",
      "              precision    recall  f1-score   support\n",
      "\n",
      "           0       0.96      1.00      0.98       718\n",
      "           1       0.98      0.73      0.83       118\n",
      "\n",
      "    accuracy                           0.96       836\n",
      "   macro avg       0.97      0.86      0.91       836\n",
      "weighted avg       0.96      0.96      0.96       836\n",
      "\n"
     ]
    },
    {
     "data": {
      "application/vnd.jupyter.widget-view+json": {
       "model_id": "a94bb57a961c457bb0f30c4154903504",
       "version_major": 2,
       "version_minor": 0
      },
      "text/plain": [
       "Downloading artifacts:   0%|          | 0/7 [00:00<?, ?it/s]"
      ]
     },
     "metadata": {},
     "output_type": "display_data"
    },
    {
     "name": "stderr",
     "output_type": "stream",
     "text": [
      "Successfully registered model 'SpamModel_XGBoost'.\n",
      "Created version '1' of model 'SpamModel_XGBoost'.\n"
     ]
    },
    {
     "name": "stdout",
     "output_type": "stream",
     "text": [
      "--------------------------------------------------\n",
      "Parameters: {'clf__learning_rate': 0.1, 'clf__max_depth': 5}\n",
      "Validation AUCPR: 0.9399\n",
      "Classification Report:\n",
      "              precision    recall  f1-score   support\n",
      "\n",
      "           0       0.96      1.00      0.98       718\n",
      "           1       0.99      0.75      0.85       118\n",
      "\n",
      "    accuracy                           0.96       836\n",
      "   macro avg       0.97      0.87      0.91       836\n",
      "weighted avg       0.96      0.96      0.96       836\n",
      "\n"
     ]
    },
    {
     "data": {
      "application/vnd.jupyter.widget-view+json": {
       "model_id": "6e262d5e8d5d4571b75882d28b1a83b2",
       "version_major": 2,
       "version_minor": 0
      },
      "text/plain": [
       "Downloading artifacts:   0%|          | 0/7 [00:00<?, ?it/s]"
      ]
     },
     "metadata": {},
     "output_type": "display_data"
    },
    {
     "name": "stderr",
     "output_type": "stream",
     "text": [
      "Registered model 'SpamModel_XGBoost' already exists. Creating a new version of this model...\n",
      "Created version '2' of model 'SpamModel_XGBoost'.\n"
     ]
    },
    {
     "name": "stdout",
     "output_type": "stream",
     "text": [
      "--------------------------------------------------\n",
      "Parameters: {'clf__learning_rate': 0.01, 'clf__max_depth': 3}\n",
      "Validation AUCPR: 0.8245\n",
      "Classification Report:\n",
      "              precision    recall  f1-score   support\n",
      "\n",
      "           0       0.92      1.00      0.96       718\n",
      "           1       0.98      0.45      0.62       118\n",
      "\n",
      "    accuracy                           0.92       836\n",
      "   macro avg       0.95      0.72      0.79       836\n",
      "weighted avg       0.93      0.92      0.91       836\n",
      "\n"
     ]
    },
    {
     "data": {
      "application/vnd.jupyter.widget-view+json": {
       "model_id": "488b756bd3b848868062764f790d5f72",
       "version_major": 2,
       "version_minor": 0
      },
      "text/plain": [
       "Downloading artifacts:   0%|          | 0/7 [00:00<?, ?it/s]"
      ]
     },
     "metadata": {},
     "output_type": "display_data"
    },
    {
     "name": "stderr",
     "output_type": "stream",
     "text": [
      "Registered model 'SpamModel_XGBoost' already exists. Creating a new version of this model...\n",
      "Created version '3' of model 'SpamModel_XGBoost'.\n"
     ]
    },
    {
     "name": "stdout",
     "output_type": "stream",
     "text": [
      "--------------------------------------------------\n",
      "Parameters: {'clf__learning_rate': 0.01, 'clf__max_depth': 5}\n",
      "Validation AUCPR: 0.8629\n",
      "Classification Report:\n",
      "              precision    recall  f1-score   support\n",
      "\n",
      "           0       0.92      1.00      0.96       718\n",
      "           1       0.98      0.47      0.64       118\n",
      "\n",
      "    accuracy                           0.92       836\n",
      "   macro avg       0.95      0.74      0.80       836\n",
      "weighted avg       0.93      0.92      0.91       836\n",
      "\n"
     ]
    },
    {
     "data": {
      "application/vnd.jupyter.widget-view+json": {
       "model_id": "4358e1968ed543a5be760d4e7e06026c",
       "version_major": 2,
       "version_minor": 0
      },
      "text/plain": [
       "Downloading artifacts:   0%|          | 0/7 [00:00<?, ?it/s]"
      ]
     },
     "metadata": {},
     "output_type": "display_data"
    },
    {
     "name": "stderr",
     "output_type": "stream",
     "text": [
      "Registered model 'SpamModel_XGBoost' already exists. Creating a new version of this model...\n",
      "Created version '4' of model 'SpamModel_XGBoost'.\n"
     ]
    },
    {
     "name": "stdout",
     "output_type": "stream",
     "text": [
      "==================================================\n",
      "Best Parameters for XGBoost: {'clf__learning_rate': 0.1, 'clf__max_depth': 5}\n",
      "Best Validation AUCPR: 0.9399\n",
      "==================================================\n"
     ]
    },
    {
     "data": {
      "application/vnd.jupyter.widget-view+json": {
       "model_id": "9eeaf76e10d5453aa1493674c3378369",
       "version_major": 2,
       "version_minor": 0
      },
      "text/plain": [
       "Downloading artifacts:   0%|          | 0/7 [00:00<?, ?it/s]"
      ]
     },
     "metadata": {},
     "output_type": "display_data"
    },
    {
     "name": "stderr",
     "output_type": "stream",
     "text": [
      "Registered model 'SpamModel_XGBoost' already exists. Creating a new version of this model...\n",
      "Created version '5' of model 'SpamModel_XGBoost'.\n"
     ]
    }
   ],
   "source": [
    "# Run training and tuning\n",
    "best_models = train_and_tune({\n",
    "    \"LogisticRegression\": LogisticRegression(),\n",
    "    \"RandomForest\": RandomForestClassifier(),\n",
    "    \"XGBoost\": XGBClassifier(eval_metric='logloss')\n",
    "}, param_grids)"
   ]
  },
  {
   "cell_type": "code",
   "execution_count": 7,
   "metadata": {},
   "outputs": [],
   "source": [
    "def evaluate_on_test(client, model_name):\n",
    "    \"\"\"Evaluate best production model on test set\"\"\"\n",
    "    model_version = client.get_latest_versions(model_name, stages=[\"Production\"])[0]\n",
    "    model = mlflow.sklearn.load_model(model_version.source)\n",
    "    \n",
    "    y_proba = model.predict_proba(X_test)\n",
    "    aucpr = average_precision_score(y_test, y_proba[:, 1])\n",
    "    y_pred = model.predict(X_test)\n",
    "    \n",
    "    print(f\"\\n{model_name} Test Results:\")\n",
    "    print(f\"AUCPR: {aucpr:.4f}\")\n",
    "    print(classification_report(y_test, y_pred))\n",
    "    \n",
    "    return aucpr"
   ]
  },
  {
   "cell_type": "code",
   "execution_count": 8,
   "metadata": {},
   "outputs": [
    {
     "name": "stdout",
     "output_type": "stream",
     "text": [
      "\n",
      "=== Final Test Evaluation ===\n",
      "\n",
      "SpamModel_LogisticRegression Test Results:\n",
      "AUCPR: 0.9668\n",
      "              precision    recall  f1-score   support\n",
      "\n",
      "           0       0.98      1.00      0.99       724\n",
      "           1       0.97      0.88      0.92       112\n",
      "\n",
      "    accuracy                           0.98       836\n",
      "   macro avg       0.98      0.94      0.95       836\n",
      "weighted avg       0.98      0.98      0.98       836\n",
      "\n",
      "\n",
      "SpamModel_RandomForest Test Results:\n",
      "AUCPR: 0.9638\n",
      "              precision    recall  f1-score   support\n",
      "\n",
      "           0       0.97      1.00      0.98       724\n",
      "           1       1.00      0.79      0.88       112\n",
      "\n",
      "    accuracy                           0.97       836\n",
      "   macro avg       0.98      0.89      0.93       836\n",
      "weighted avg       0.97      0.97      0.97       836\n",
      "\n",
      "\n",
      "SpamModel_XGBoost Test Results:\n",
      "AUCPR: 0.9033\n",
      "              precision    recall  f1-score   support\n",
      "\n",
      "           0       0.96      1.00      0.98       724\n",
      "           1       0.97      0.74      0.84       112\n",
      "\n",
      "    accuracy                           0.96       836\n",
      "   macro avg       0.96      0.87      0.91       836\n",
      "weighted avg       0.96      0.96      0.96       836\n",
      "\n"
     ]
    }
   ],
   "source": [
    "client = mlflow.tracking.MlflowClient()\n",
    "print(\"\\n=== Final Test Evaluation ===\")\n",
    "for model_name in [\"SpamModel_LogisticRegression\", \"SpamModel_RandomForest\", \"SpamModel_XGBoost\"]:\n",
    "    versions = client.search_model_versions(f\"name='{model_name}'\")\n",
    "    best_version = None\n",
    "    best_aucpr = 0\n",
    "    for version in versions:\n",
    "        if version.current_stage != \"Archived\":\n",
    "            run = client.get_run(version.run_id)\n",
    "            aucpr = float(run.data.metrics.get(\"val_aucpr\", 0))\n",
    "            if aucpr > best_aucpr:\n",
    "                best_aucpr = aucpr\n",
    "                best_version = version\n",
    "    if best_version is None:\n",
    "        print(f\"No valid versions found for {model_name}\")\n",
    "        continue\n",
    "    client.transition_model_version_stage(\n",
    "        name=model_name,\n",
    "        version=best_version.version,\n",
    "        stage=\"Production\"\n",
    "    )\n",
    "    evaluate_on_test(client, model_name)"
   ]
  }
 ],
 "metadata": {
  "kernelspec": {
   "display_name": "DataScience_python310",
   "language": "python",
   "name": "python3"
  },
  "language_info": {
   "codemirror_mode": {
    "name": "ipython",
    "version": 3
   },
   "file_extension": ".py",
   "mimetype": "text/x-python",
   "name": "python",
   "nbconvert_exporter": "python",
   "pygments_lexer": "ipython3",
   "version": "3.10.14"
  }
 },
 "nbformat": 4,
 "nbformat_minor": 2
}
