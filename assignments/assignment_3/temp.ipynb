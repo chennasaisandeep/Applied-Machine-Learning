{
 "cells": [
  {
   "cell_type": "code",
   "execution_count": 1,
   "metadata": {},
   "outputs": [],
   "source": [
    "# import re\n",
    "import joblib\n",
    "# import sklearn\n",
    "# import numpy as np\n",
    "\n",
    "# import nltk\n",
    "# from nltk.corpus import stopwords\n",
    "# from nltk.stem import WordNetLemmatizer\n",
    "\n",
    "# nltk.download('stopwords')\n",
    "# nltk.download('wordnet')\n",
    "# nltk.download('punkt')\n",
    "\n",
    "# lemmatizer = WordNetLemmatizer()\n",
    "# stop_words = set(stopwords.words('english'))\n",
    "\n",
    "\n",
    "def score(text: str, model, threshold: float = 0.5) -> tuple:\n",
    "    input_message = [text]\n",
    "    propensity = model.predict_proba(input_message)[0][1]\n",
    "    prediction = propensity >= threshold\n",
    "    return prediction, propensity\n",
    "\n",
    "# Load model and vectorizer (for convenience in testing)\n",
    "def load_model(model_path):\n",
    "    model = joblib.load(model_path)\n",
    "    return model"
   ]
  },
  {
   "cell_type": "code",
   "execution_count": 2,
   "metadata": {},
   "outputs": [],
   "source": [
    "# Paths to model and vectorizer\n",
    "MODEL_PATH = r'G:\\Desktop\\CMI_DS\\semester_IV\\applied_machine_learning\\assignments\\assignment_2\\best_model_LogisticRegression.pkl'\n",
    "\n",
    "# Load model and vectorizer once at startup\n",
    "model = load_model(MODEL_PATH)"
   ]
  },
  {
   "cell_type": "code",
   "execution_count": 3,
   "metadata": {},
   "outputs": [
    {
     "data": {
      "text/plain": [
       "(False, 0.05753834902810613)"
      ]
     },
     "execution_count": 3,
     "metadata": {},
     "output_type": "execute_result"
    }
   ],
   "source": [
    "# Score the text\n",
    "prediction, propensity = score(\"Hello how are you?\", model)\n",
    "prediction, propensity"
   ]
  },
  {
   "cell_type": "code",
   "execution_count": 4,
   "metadata": {},
   "outputs": [
    {
     "name": "stdout",
     "output_type": "stream",
     "text": [
      "==================================================\n",
      "Model: LogisticRegression\n",
      "Prediction: 0\n",
      "Probability: [[0.94246165 0.05753835]]\n"
     ]
    }
   ],
   "source": [
    "message = [\"Hello how are you?\"]\n",
    "model_names = [\"LogisticRegression\"]\n",
    "\n",
    "for name in model_names:\n",
    "    pipeline = joblib.load(r'G:\\Desktop\\CMI_DS\\semester_IV\\applied_machine_learning\\assignments\\assignment_2\\best_model_LogisticRegression.pkl')\n",
    "    prediction = pipeline.predict(message)\n",
    "    probability = pipeline.predict_proba(message)\n",
    "    print(\"=\"*50)\n",
    "    print(f\"Model: {name}\")\n",
    "    print(\"Prediction:\", prediction[0])\n",
    "    print(\"Probability:\", probability)\n"
   ]
  }
 ],
 "metadata": {
  "kernelspec": {
   "display_name": "DataScience_python310",
   "language": "python",
   "name": "python3"
  },
  "language_info": {
   "codemirror_mode": {
    "name": "ipython",
    "version": 3
   },
   "file_extension": ".py",
   "mimetype": "text/x-python",
   "name": "python",
   "nbconvert_exporter": "python",
   "pygments_lexer": "ipython3",
   "version": "3.10.14"
  }
 },
 "nbformat": 4,
 "nbformat_minor": 2
}
